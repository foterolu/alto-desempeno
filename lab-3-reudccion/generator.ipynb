{
 "cells": [
  {
   "cell_type": "code",
   "execution_count": 1,
   "metadata": {},
   "outputs": [],
   "source": [
    "import numpy as np"
   ]
  },
  {
   "cell_type": "code",
   "execution_count": 6,
   "metadata": {},
   "outputs": [
    {
     "name": "stdout",
     "output_type": "stream",
     "text": [
      "Data inicial: \n",
      "Numero de lobos: 20195\n",
      "Numero de conejos: 505374\n",
      "Casillas vacias: 1474431\n",
      "Archivo 'initial.txt' generado.\n"
     ]
    }
   ],
   "source": [
    "np.random.seed(0)\n",
    "M = 2000\n",
    "N = 1000\n",
    "lobo_porcentaje = 1\n",
    "conejo_porcentaje = 25\n",
    "data = np.random.randint(3,102,(M,N))\n",
    "data[np.where(data < 3+conejo_porcentaje)] = 1\n",
    "data[np.where(data >= 102-lobo_porcentaje)] = 2\n",
    "data[np.where(data > 2)] = 0\n",
    "print(\"Data inicial: \")\n",
    "print(\"Numero de lobos:\", len(np.where(data == 2)[0]))\n",
    "print(\"Numero de conejos:\", len(np.where(data == 1)[0]))\n",
    "print(\"Casillas vacias:\", len(np.where(data == 0)[0]))\n",
    "np.savetxt('initial.txt', data, fmt='%d', delimiter=' ', header='%d %d'%(M,N), comments='')\n",
    "print(\"Archivo 'initial.txt' generado.\")"
   ]
  },
  {
   "cell_type": "code",
   "execution_count": null,
   "metadata": {},
   "outputs": [],
   "source": []
  }
 ],
 "metadata": {
  "kernelspec": {
   "display_name": "Python 3 (ipykernel)",
   "language": "python",
   "name": "python3"
  },
  "language_info": {
   "codemirror_mode": {
    "name": "ipython",
    "version": 3
   },
   "file_extension": ".py",
   "mimetype": "text/x-python",
   "name": "python",
   "nbconvert_exporter": "python",
   "pygments_lexer": "ipython3",
   "version": "3.9.7"
  }
 },
 "nbformat": 4,
 "nbformat_minor": 4
}
